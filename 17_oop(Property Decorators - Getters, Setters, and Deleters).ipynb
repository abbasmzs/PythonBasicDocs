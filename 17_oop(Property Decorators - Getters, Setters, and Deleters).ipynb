{
 "cells": [
  {
   "cell_type": "code",
   "execution_count": null,
   "metadata": {},
   "outputs": [],
   "source": [
    "class Employee:\n",
    "    \n",
    "    def __init__(self, first, last):\n",
    "        self.first = first\n",
    "        self.last = last = last\n",
    "        self.email = first + '.' + last + '@gmail.com'\n",
    "    \n",
    "    def fullname(self):\n",
    "        return \"{} {}\".format(self.first, self.last)"
   ]
  },
  {
   "cell_type": "code",
   "execution_count": null,
   "metadata": {},
   "outputs": [],
   "source": [
    "emp_1 = Employee('Aram', 'Rostamitabar')"
   ]
  },
  {
   "cell_type": "code",
   "execution_count": null,
   "metadata": {},
   "outputs": [],
   "source": [
    "print(emp_1.first)\n",
    "print(emp_1.last)\n",
    "print(emp_1.email)\n",
    "print(emp_1.fullname())"
   ]
  },
  {
   "cell_type": "code",
   "execution_count": null,
   "metadata": {},
   "outputs": [],
   "source": [
    "emp_1.first = 'Jack'\n",
    "print(emp_1.first)\n",
    "print(emp_1.last)\n",
    "print(emp_1.email)\n",
    "print(emp_1.fullname())"
   ]
  },
  {
   "cell_type": "code",
   "execution_count": null,
   "metadata": {},
   "outputs": [],
   "source": [
    "# email not changed"
   ]
  },
  {
   "cell_type": "code",
   "execution_count": 13,
   "metadata": {},
   "outputs": [],
   "source": [
    "class Employee:\n",
    "    def __init__(self, first, last):\n",
    "        self.first = first\n",
    "        self.last = last\n",
    "        \n",
    "    @property # removing par.... ()\n",
    "    def email(self):\n",
    "        return '{}.{}@gmail.com'.format(self.first, self.last)\n",
    "    \n",
    "    @property\n",
    "    def fullname(self, name):\n",
    "        return '{} {}'.format(self.first, self.last)\n",
    "    \n",
    "    @fullname.setter\n",
    "    def fullname(self, name):\n",
    "        first, last = name.split(' ')\n",
    "        self.first = first\n",
    "        self.last = last\n",
    "        \n",
    "    @fullname.deleter\n",
    "    def fullname(self):\n",
    "        print('Delete name!')\n",
    "        self.first = None\n",
    "        self.last = None"
   ]
  },
  {
   "cell_type": "code",
   "execution_count": 14,
   "metadata": {},
   "outputs": [],
   "source": [
    "emp_2 = Employee('Hana', 'Batmani')"
   ]
  },
  {
   "cell_type": "code",
   "execution_count": 15,
   "metadata": {},
   "outputs": [
    {
     "name": "stdout",
     "output_type": "stream",
     "text": [
      "John\n",
      "Batmani\n",
      "John.Batmani@gmail.com\n"
     ]
    }
   ],
   "source": [
    "emp_2.first = 'John'\n",
    "print(emp_2.first)\n",
    "print(emp_2.last)\n",
    "print(emp_2.email)"
   ]
  },
  {
   "cell_type": "code",
   "execution_count": 16,
   "metadata": {},
   "outputs": [],
   "source": [
    "emp_2.fullname = 'David Beckham'"
   ]
  },
  {
   "cell_type": "code",
   "execution_count": 17,
   "metadata": {},
   "outputs": [
    {
     "name": "stdout",
     "output_type": "stream",
     "text": [
      "David\n",
      "Beckham\n",
      "David.Beckham@gmail.com\n"
     ]
    }
   ],
   "source": [
    "print(emp_2.first)\n",
    "print(emp_2.last)\n",
    "print(emp_2.email)"
   ]
  },
  {
   "cell_type": "code",
   "execution_count": 18,
   "metadata": {},
   "outputs": [
    {
     "name": "stdout",
     "output_type": "stream",
     "text": [
      "Delete name!\n"
     ]
    }
   ],
   "source": [
    "del emp_2.fullname"
   ]
  },
  {
   "cell_type": "code",
   "execution_count": null,
   "metadata": {},
   "outputs": [],
   "source": []
  }
 ],
 "metadata": {
  "kernelspec": {
   "display_name": "Python 3",
   "language": "python",
   "name": "python3"
  },
  "language_info": {
   "codemirror_mode": {
    "name": "ipython",
    "version": 3
   },
   "file_extension": ".py",
   "mimetype": "text/x-python",
   "name": "python",
   "nbconvert_exporter": "python",
   "pygments_lexer": "ipython3",
   "version": "3.8.3"
  }
 },
 "nbformat": 4,
 "nbformat_minor": 4
}
